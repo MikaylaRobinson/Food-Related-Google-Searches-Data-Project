{
 "cells": [
  {
   "cell_type": "code",
   "execution_count": 1,
   "metadata": {},
   "outputs": [],
   "source": [
    "import numpy as np\n",
    "import pandas as pd\n",
    "from pandas import Series, DataFrame\n",
    "import seaborn as sns\n",
    "import matplotlib.pyplot as plt\n",
    "%matplotlib inline\n",
    "plt.style.use('seaborn-whitegrid')"
   ]
  },
  {
   "cell_type": "code",
   "execution_count": 2,
   "metadata": {},
   "outputs": [],
   "source": [
    "search_values_df = pd.read_csv('search-values.csv')"
   ]
  },
  {
   "cell_type": "code",
   "execution_count": 3,
   "metadata": {},
   "outputs": [],
   "source": [
    "week_numbers = []\n",
    "for date in search_values_df['week_id']:\n",
    "    numbers = date[5:7]\n",
    "    week_numbers.append(numbers)\n",
    "    \n",
    "search_values_df['number_of_week'] = week_numbers"
   ]
  },
  {
   "cell_type": "code",
   "execution_count": 4,
   "metadata": {},
   "outputs": [],
   "source": [
    "year = []\n",
    "for date in search_values_df['week_id']:\n",
    "    numbers = date[0:4]\n",
    "    year.append(numbers)\n",
    "\n",
    "search_values_df['year'] = year"
   ]
  },
  {
   "cell_type": "code",
   "execution_count": 5,
   "metadata": {
    "scrolled": true
   },
   "outputs": [
    {
     "data": {
      "text/html": [
       "<div>\n",
       "<style scoped>\n",
       "    .dataframe tbody tr th:only-of-type {\n",
       "        vertical-align: middle;\n",
       "    }\n",
       "\n",
       "    .dataframe tbody tr th {\n",
       "        vertical-align: top;\n",
       "    }\n",
       "\n",
       "    .dataframe thead th {\n",
       "        text-align: right;\n",
       "    }\n",
       "</style>\n",
       "<table border=\"1\" class=\"dataframe\">\n",
       "  <thead>\n",
       "    <tr style=\"text-align: right;\">\n",
       "      <th></th>\n",
       "      <th>id</th>\n",
       "      <th>googleTopic</th>\n",
       "      <th>week_id</th>\n",
       "      <th>value</th>\n",
       "      <th>number_of_week</th>\n",
       "      <th>year</th>\n",
       "    </tr>\n",
       "  </thead>\n",
       "  <tbody>\n",
       "    <tr>\n",
       "      <th>0</th>\n",
       "      <td>frozen-yogurt</td>\n",
       "      <td>/m/020b3f</td>\n",
       "      <td>2004-01</td>\n",
       "      <td>20</td>\n",
       "      <td>01</td>\n",
       "      <td>2004</td>\n",
       "    </tr>\n",
       "    <tr>\n",
       "      <th>1</th>\n",
       "      <td>frozen-yogurt</td>\n",
       "      <td>/m/020b3f</td>\n",
       "      <td>2004-02</td>\n",
       "      <td>16</td>\n",
       "      <td>02</td>\n",
       "      <td>2004</td>\n",
       "    </tr>\n",
       "    <tr>\n",
       "      <th>2</th>\n",
       "      <td>frozen-yogurt</td>\n",
       "      <td>/m/020b3f</td>\n",
       "      <td>2004-03</td>\n",
       "      <td>7</td>\n",
       "      <td>03</td>\n",
       "      <td>2004</td>\n",
       "    </tr>\n",
       "    <tr>\n",
       "      <th>3</th>\n",
       "      <td>frozen-yogurt</td>\n",
       "      <td>/m/020b3f</td>\n",
       "      <td>2004-04</td>\n",
       "      <td>7</td>\n",
       "      <td>04</td>\n",
       "      <td>2004</td>\n",
       "    </tr>\n",
       "    <tr>\n",
       "      <th>4</th>\n",
       "      <td>frozen-yogurt</td>\n",
       "      <td>/m/020b3f</td>\n",
       "      <td>2004-05</td>\n",
       "      <td>13</td>\n",
       "      <td>05</td>\n",
       "      <td>2004</td>\n",
       "    </tr>\n",
       "  </tbody>\n",
       "</table>\n",
       "</div>"
      ],
      "text/plain": [
       "              id googleTopic  week_id  value number_of_week  year\n",
       "0  frozen-yogurt   /m/020b3f  2004-01     20             01  2004\n",
       "1  frozen-yogurt   /m/020b3f  2004-02     16             02  2004\n",
       "2  frozen-yogurt   /m/020b3f  2004-03      7             03  2004\n",
       "3  frozen-yogurt   /m/020b3f  2004-04      7             04  2004\n",
       "4  frozen-yogurt   /m/020b3f  2004-05     13             05  2004"
      ]
     },
     "execution_count": 5,
     "metadata": {},
     "output_type": "execute_result"
    }
   ],
   "source": [
    "search_values_df.head()"
   ]
  },
  {
   "cell_type": "code",
   "execution_count": 6,
   "metadata": {},
   "outputs": [],
   "source": [
    "max_values = DataFrame()"
   ]
  },
  {
   "cell_type": "code",
   "execution_count": 11,
   "metadata": {},
   "outputs": [],
   "source": [
    "max_values = search_values_df.loc[search_values_df['value'].isin(['100','99'])]"
   ]
  },
  {
   "cell_type": "code",
   "execution_count": 14,
   "metadata": {},
   "outputs": [
    {
     "data": {
      "text/html": [
       "<div>\n",
       "<style scoped>\n",
       "    .dataframe tbody tr th:only-of-type {\n",
       "        vertical-align: middle;\n",
       "    }\n",
       "\n",
       "    .dataframe tbody tr th {\n",
       "        vertical-align: top;\n",
       "    }\n",
       "\n",
       "    .dataframe thead th {\n",
       "        text-align: right;\n",
       "    }\n",
       "</style>\n",
       "<table border=\"1\" class=\"dataframe\">\n",
       "  <thead>\n",
       "    <tr style=\"text-align: right;\">\n",
       "      <th></th>\n",
       "      <th>id</th>\n",
       "      <th>googleTopic</th>\n",
       "      <th>week_id</th>\n",
       "      <th>value</th>\n",
       "      <th>number_of_week</th>\n",
       "      <th>year</th>\n",
       "    </tr>\n",
       "  </thead>\n",
       "  <tbody>\n",
       "    <tr>\n",
       "      <th>493</th>\n",
       "      <td>frozen-yogurt</td>\n",
       "      <td>/m/020b3f</td>\n",
       "      <td>2013-26</td>\n",
       "      <td>100</td>\n",
       "      <td>26</td>\n",
       "      <td>2013</td>\n",
       "    </tr>\n",
       "    <tr>\n",
       "      <th>1351</th>\n",
       "      <td>ice-cream</td>\n",
       "      <td>/m/0cxn2</td>\n",
       "      <td>2016-52</td>\n",
       "      <td>100</td>\n",
       "      <td>52</td>\n",
       "      <td>2016</td>\n",
       "    </tr>\n",
       "    <tr>\n",
       "      <th>1970</th>\n",
       "      <td>pie</td>\n",
       "      <td>/m/0mjqn</td>\n",
       "      <td>2015-47</td>\n",
       "      <td>100</td>\n",
       "      <td>47</td>\n",
       "      <td>2015</td>\n",
       "    </tr>\n",
       "    <tr>\n",
       "      <th>2594</th>\n",
       "      <td>marshmallow</td>\n",
       "      <td>/m/0lgk9</td>\n",
       "      <td>2014-47</td>\n",
       "      <td>100</td>\n",
       "      <td>47</td>\n",
       "      <td>2014</td>\n",
       "    </tr>\n",
       "    <tr>\n",
       "      <th>3361</th>\n",
       "      <td>nougat</td>\n",
       "      <td>/m/01ykdy</td>\n",
       "      <td>2016-34</td>\n",
       "      <td>100</td>\n",
       "      <td>34</td>\n",
       "      <td>2016</td>\n",
       "    </tr>\n",
       "  </tbody>\n",
       "</table>\n",
       "</div>"
      ],
      "text/plain": [
       "                 id googleTopic  week_id  value number_of_week  year\n",
       "493   frozen-yogurt   /m/020b3f  2013-26    100             26  2013\n",
       "1351      ice-cream    /m/0cxn2  2016-52    100             52  2016\n",
       "1970            pie    /m/0mjqn  2015-47    100             47  2015\n",
       "2594    marshmallow    /m/0lgk9  2014-47    100             47  2014\n",
       "3361         nougat   /m/01ykdy  2016-34    100             34  2016"
      ]
     },
     "execution_count": 14,
     "metadata": {},
     "output_type": "execute_result"
    }
   ],
   "source": [
    "max_values.head()"
   ]
  },
  {
   "cell_type": "code",
   "execution_count": 12,
   "metadata": {},
   "outputs": [],
   "source": [
    "diet_related_peaks = max_values.loc[max_values['id'].isin(['bread','avocado','diet','pork'])]"
   ]
  },
  {
   "cell_type": "code",
   "execution_count": 13,
   "metadata": {},
   "outputs": [
    {
     "data": {
      "text/html": [
       "<div>\n",
       "<style scoped>\n",
       "    .dataframe tbody tr th:only-of-type {\n",
       "        vertical-align: middle;\n",
       "    }\n",
       "\n",
       "    .dataframe tbody tr th {\n",
       "        vertical-align: top;\n",
       "    }\n",
       "\n",
       "    .dataframe thead th {\n",
       "        text-align: right;\n",
       "    }\n",
       "</style>\n",
       "<table border=\"1\" class=\"dataframe\">\n",
       "  <thead>\n",
       "    <tr style=\"text-align: right;\">\n",
       "      <th></th>\n",
       "      <th>id</th>\n",
       "      <th>googleTopic</th>\n",
       "      <th>week_id</th>\n",
       "      <th>value</th>\n",
       "      <th>number_of_week</th>\n",
       "      <th>year</th>\n",
       "    </tr>\n",
       "  </thead>\n",
       "  <tbody>\n",
       "    <tr>\n",
       "      <th>7266</th>\n",
       "      <td>diet</td>\n",
       "      <td>/m/02zkwn</td>\n",
       "      <td>2010-01</td>\n",
       "      <td>100</td>\n",
       "      <td>01</td>\n",
       "      <td>2010</td>\n",
       "    </tr>\n",
       "    <tr>\n",
       "      <th>15684</th>\n",
       "      <td>bread</td>\n",
       "      <td>/m/09728</td>\n",
       "      <td>2015-47</td>\n",
       "      <td>100</td>\n",
       "      <td>47</td>\n",
       "      <td>2015</td>\n",
       "    </tr>\n",
       "    <tr>\n",
       "      <th>15736</th>\n",
       "      <td>bread</td>\n",
       "      <td>/m/09728</td>\n",
       "      <td>2016-47</td>\n",
       "      <td>99</td>\n",
       "      <td>47</td>\n",
       "      <td>2016</td>\n",
       "    </tr>\n",
       "    <tr>\n",
       "      <th>23801</th>\n",
       "      <td>pork</td>\n",
       "      <td>/m/0frq6</td>\n",
       "      <td>2015-52</td>\n",
       "      <td>99</td>\n",
       "      <td>52</td>\n",
       "      <td>2015</td>\n",
       "    </tr>\n",
       "    <tr>\n",
       "      <th>52204</th>\n",
       "      <td>avocado</td>\n",
       "      <td>/m/01645p</td>\n",
       "      <td>2016-18</td>\n",
       "      <td>99</td>\n",
       "      <td>18</td>\n",
       "      <td>2016</td>\n",
       "    </tr>\n",
       "  </tbody>\n",
       "</table>\n",
       "</div>"
      ],
      "text/plain": [
       "            id googleTopic  week_id  value number_of_week  year\n",
       "7266      diet   /m/02zkwn  2010-01    100             01  2010\n",
       "15684    bread    /m/09728  2015-47    100             47  2015\n",
       "15736    bread    /m/09728  2016-47     99             47  2016\n",
       "23801     pork    /m/0frq6  2015-52     99             52  2015\n",
       "52204  avocado   /m/01645p  2016-18     99             18  2016"
      ]
     },
     "execution_count": 13,
     "metadata": {},
     "output_type": "execute_result"
    }
   ],
   "source": [
    "diet_related_peaks"
   ]
  },
  {
   "cell_type": "markdown",
   "metadata": {},
   "source": [
    "Being interested in the emergence of the keto diet, I have singled out some of the searches I felt would be most related. Since the keto diet commonly means avoiding bread, I have included that among the two most stereotypical keto foods: pork(bacon) and avocado. From a quick online search, I found a long history of the keto diet. However, its most recent popularity has been mentioned to begin in the last couple years. Surprisingly, the height of google search interest for these commonly found keto foods (or the foods to avoid) also were from the past couple of years. "
   ]
  },
  {
   "cell_type": "code",
   "execution_count": null,
   "metadata": {},
   "outputs": [],
   "source": []
  }
 ],
 "metadata": {
  "kernelspec": {
   "display_name": "Python 3",
   "language": "python",
   "name": "python3"
  },
  "language_info": {
   "codemirror_mode": {
    "name": "ipython",
    "version": 3
   },
   "file_extension": ".py",
   "mimetype": "text/x-python",
   "name": "python",
   "nbconvert_exporter": "python",
   "pygments_lexer": "ipython3",
   "version": "3.7.0"
  }
 },
 "nbformat": 4,
 "nbformat_minor": 2
}
